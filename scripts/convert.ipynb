{
 "cells": [
  {
   "cell_type": "markdown",
   "metadata": {},
   "source": [
    "# Jupyterbook Helper\n",
    "---\n",
    "These files are used to configure and organize the website's contents."
   ]
  },
  {
   "cell_type": "code",
   "execution_count": 1,
   "metadata": {},
   "outputs": [],
   "source": [
    "%load_ext autoreload\n",
    "%autoreload 2\n",
    "%matplotlib inline\n"
   ]
  },
  {
   "cell_type": "code",
   "execution_count": 2,
   "metadata": {},
   "outputs": [],
   "source": [
    "#Set the book.\n",
    "book='quant'\n",
    "syllabus_message = \"\"\"You should always look to this website for the most recent updates.\\n\\n\n",
    "An initial version of the syllabus can be found below. \\n\\n\"\"\""
   ]
  },
  {
   "cell_type": "code",
   "execution_count": 3,
   "metadata": {},
   "outputs": [],
   "source": [
    "# Always run this before any of the following cells\n",
    "import pandas as pd\n",
    "import numpy as np\n",
    "import csv\n",
    "import logging\n",
    "import subprocess\n",
    "import yaml\n",
    "import builder as bd\n",
    "from pathlib import Path\n",
    "base_path=Path('..')\n",
    "book_path= base_path / book\n",
    "content_path = book_path / 'content'"
   ]
  },
  {
   "cell_type": "code",
   "execution_count": 4,
   "metadata": {},
   "outputs": [],
   "source": [
    "# These load configuration from the excel files \n",
    "config = bd.load_yaml_file(book_path / '_config.yml') # Load the file.\n",
    "toc = bd.load_yaml_file(book_path / '_toc.yml') # Load the file.\n",
    "config_xl= pd.read_excel('../book.xlsx', sheet_name = '_config_yml', header=None, index_col=None)\n",
    "schedule= pd.read_excel('../book.xlsx', sheet_name = 'Schedule',  index_col=None)\n",
    "content={}\n",
    "content['Before Class']= pd.read_excel('../book.xlsx', sheet_name = 'Before',  index_col=None)\n",
    "content['In Class']= pd.read_excel('../book.xlsx', sheet_name = 'During',  index_col=None)\n",
    "content['Assignment']= pd.read_excel('../book.xlsx', sheet_name = 'Assignments',  index_col=None)\n"
   ]
  },
  {
   "cell_type": "code",
   "execution_count": 5,
   "metadata": {},
   "outputs": [
    {
     "name": "stdout",
     "output_type": "stream",
     "text": [
      "Outputting  ../quant/content/syllabus.md\n"
     ]
    }
   ],
   "source": [
    "#Create the syllabus link.\n",
    "#The second value of the index postion of the syllabus on the before class content.\n",
    "bd.create_syllabus(content['Before Class'],0,syllabus_message,content_path / 'syllabus.md', config['repository']['url'])"
   ]
  },
  {
   "cell_type": "code",
   "execution_count": 6,
   "metadata": {},
   "outputs": [],
   "source": [
    "#Fix in case individual tries to publish where session is NA. This isn't allowed. \n",
    "schedule.loc[schedule['Session'].isna(),'Publish']=0. "
   ]
  },
  {
   "cell_type": "code",
   "execution_count": 7,
   "metadata": {},
   "outputs": [],
   "source": [
    "#Generate Links from the schedule to the sessions and within the other tables. \n",
    "schedule.loc[schedule['Publish']==1,'Location']=schedule.loc[schedule['Publish']==1,'Session'].apply(lambda x: '../sessions/session'+str(int(x)))\n",
    "schedule.loc[schedule['Publish']==1,'Type']='Markdown'\n",
    "schedule=bd.link_generator(schedule, 'Summary',config['repository']['url'],'Link')\n",
    "content['Assignment']=bd.link_generator(content['Assignment'], 'Assignment',config['repository']['url'],'Starter')\n",
    "content['Before Class']=bd.link_generator(content['Before Class'], 'Content',config['repository']['url'],'Link')\n",
    "content['In Class']=bd.link_generator(content['In Class'], 'Content',config['repository']['url'],'Link')"
   ]
  },
  {
   "cell_type": "code",
   "execution_count": 8,
   "metadata": {},
   "outputs": [
    {
     "name": "stdout",
     "output_type": "stream",
     "text": [
      "Converting datetime to \n",
      "Outputting file: ../quant/content/in_class.md\n"
     ]
    }
   ],
   "source": [
    "#Get the before class activities and prepare and output a markdown file. \n",
    "schedule_ic=schedule.merge(content['In Class'], left_on='Session', right_on='Session', how='left')\n",
    "schedule_ic= schedule_ic.loc[schedule_ic['Content'].notnull(),['Week', 'Session', 'Date', 'Content']]\n",
    "schedule_ic=bd.pandas_to_md(schedule_ic, content_path / 'in_class.md', 'In Class', \\\n",
    "                             include = ['Week', 'Session', 'Date', 'Content'])"
   ]
  },
  {
   "cell_type": "code",
   "execution_count": 9,
   "metadata": {},
   "outputs": [
    {
     "name": "stdout",
     "output_type": "stream",
     "text": [
      "Converting datetime to \n",
      "Outputting file: ../quant/content/preparation.md\n"
     ]
    }
   ],
   "source": [
    "#Get the before class activities and prepare and output a markdown file. \n",
    "schedule_bc=schedule.merge(content['Before Class'], left_on='Session', right_on='Session', how='left')\n",
    "schedule_bc= schedule_bc.loc[schedule_bc['Content'].notnull(),['Week', 'Session', 'Date', 'Content']]\n",
    "schedule_bc=bd.pandas_to_md(schedule_bc, content_path / 'preparation.md', 'Before Class', \\\n",
    "                             include = ['Week', 'Session', 'Date', 'Content'])\n",
    "schedule=schedule.merge(content['Assignment'], left_on='Session', right_on='Session', how='left')\n",
    "\n"
   ]
  },
  {
   "cell_type": "code",
   "execution_count": 10,
   "metadata": {},
   "outputs": [
    {
     "name": "stdout",
     "output_type": "stream",
     "text": [
      "Converting datetime to \n",
      "Converting datetime to \n",
      "Outputting file: ../quant/content/assignments.md\n"
     ]
    }
   ],
   "source": [
    "#Get the assignments and prepare and output a markdown file. \n",
    "assignments_new = schedule.loc[schedule['Assignment'].notnull(),['Week', 'Session', 'Date', 'Assignment', 'Due']]\n",
    "assignments_new=bd.pandas_to_md(assignments_new, content_path / 'assignments.md', 'Assignments', \\\n",
    "                             include = ['Week', 'Session', 'Date', 'Assignment', 'Due'])"
   ]
  },
  {
   "cell_type": "code",
   "execution_count": 11,
   "metadata": {},
   "outputs": [
    {
     "name": "stdout",
     "output_type": "stream",
     "text": [
      "Converting datetime to \n",
      "Converting datetime to \n",
      "Outputting file: ../quant/content/schedule.md\n"
     ]
    }
   ],
   "source": [
    "#Output the schedule to markdown.\n",
    "schedule=bd.pandas_to_md(schedule, content_path / 'schedule.md', 'Schedule', \\\n",
    "                             include = ['Week', 'Session', 'Date', 'Day', 'Topic', 'Summary', 'Assignment', 'Due'])"
   ]
  },
  {
   "cell_type": "code",
   "execution_count": 12,
   "metadata": {},
   "outputs": [
    {
     "name": "stdout",
     "output_type": "stream",
     "text": [
      "Outputting  session1.md\n",
      "Outputting  session2.md\n",
      "Outputting  session3.md\n",
      "Outputting  session4.md\n"
     ]
    }
   ],
   "source": [
    "#Generate Session Files\n",
    "toc=bd.generate_sessions(config, toc, 2, schedule, book_path / 'sessions',content, ['Before Class', 'In Class', 'Assignment'])"
   ]
  },
  {
   "cell_type": "code",
   "execution_count": 13,
   "metadata": {},
   "outputs": [
    {
     "name": "stdout",
     "output_type": "stream",
     "text": [
      "Updating the file: ../quant/_toc.yml\n"
     ]
    }
   ],
   "source": [
    "#Update the sessions to the yaml file.  Other updates to notebooks need to be done manually.\n",
    "bd.update_yaml_file(book_path / '_toc.yml', toc)"
   ]
  },
  {
   "cell_type": "code",
   "execution_count": 14,
   "metadata": {},
   "outputs": [],
   "source": [
    "#TBD Make it so that notebooks will show up in _toc.yml. "
   ]
  }
 ],
 "metadata": {
  "kernelspec": {
   "display_name": "Python 3",
   "language": "python",
   "name": "python3"
  },
  "language_info": {
   "codemirror_mode": {
    "name": "ipython",
    "version": 3
   },
   "file_extension": ".py",
   "mimetype": "text/x-python",
   "name": "python",
   "nbconvert_exporter": "python",
   "pygments_lexer": "ipython3",
   "version": "3.7.6"
  }
 },
 "nbformat": 4,
 "nbformat_minor": 4
}

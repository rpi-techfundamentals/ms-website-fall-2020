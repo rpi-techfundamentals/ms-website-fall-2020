{
 "cells": [
  {
   "cell_type": "markdown",
   "metadata": {},
   "source": [
    "# YAML Files\n",
    "---\n",
    "These files are used to configure and organize the website's contents."
   ]
  },
  {
   "cell_type": "code",
   "execution_count": 22,
   "metadata": {},
   "outputs": [
    {
     "name": "stdout",
     "output_type": "stream",
     "text": [
      "The autoreload extension is already loaded. To reload it, use:\n",
      "  %reload_ext autoreload\n"
     ]
    }
   ],
   "source": [
    "%load_ext autoreload\n",
    "%autoreload 2\n",
    "%matplotlib inline\n"
   ]
  },
  {
   "cell_type": "code",
   "execution_count": 23,
   "metadata": {},
   "outputs": [],
   "source": [
    "#Set the book.\n",
    "book='quant'"
   ]
  },
  {
   "cell_type": "code",
   "execution_count": 24,
   "metadata": {},
   "outputs": [],
   "source": [
    "# Always run this before any of the following cells\n",
    "import pandas as pd\n",
    "import numpy as np\n",
    "import csv\n",
    "import logging\n",
    "import subprocess\n",
    "import yaml\n",
    "import builder as bd\n",
    "from pathlib import Path\n",
    "base_path=Path('..')\n",
    "book_path= base_path / book"
   ]
  },
  {
   "cell_type": "code",
   "execution_count": 25,
   "metadata": {},
   "outputs": [],
   "source": [
    "# Configuration\n",
    "config = bd.load_yaml_file(book_path / '_config.yml') # Load the file.\n",
    "toc = bd.load_yaml_file(book_path / '_toc.yml') # Load the file.\n",
    "config_xl= pd.read_excel('../book.xlsx', sheet_name = '_config_yml', header=None, index_col=None)\n",
    "schedule= pd.read_excel('../book.xlsx', sheet_name = 'Schedule',  index_col=None)\n",
    "content={}\n",
    "content['Before Class']= pd.read_excel('../book.xlsx', sheet_name = 'Before',  index_col=None)\n",
    "content['In Class']= pd.read_excel('../book.xlsx', sheet_name = 'During',  index_col=None)\n",
    "content['Assignment']= pd.read_excel('../book.xlsx', sheet_name = 'Assignments',  index_col=None)\n"
   ]
  },
  {
   "cell_type": "code",
   "execution_count": 26,
   "metadata": {},
   "outputs": [],
   "source": [
    "#Prepare \n",
    "for index, row in content['Assignment'].iterrows():\n",
    "    if row['Type']=='Notebook':\n",
    "        content['Assignment'].loc[index,'Assignment']=row['Assignment']+\" [Starter](\"+row['Location']+\")\"\n",
    "    elif row['Type']=='File':\n",
    "        content['Assignment'].loc[index,'Assignment']=row['Assignment']+\" [Starter](\"+config['repository']['url']+\"/\"+row['Location']+\")\"\n",
    "schedule=schedule.merge(content['Assignment'], left_on='Session', right_on='Session', how='left')\n",
    "#schedule['Due']=schedule['Date'].apply(lambda x: x+ pd.Timedelta(7, unit='D'))"
   ]
  },
  {
   "cell_type": "code",
   "execution_count": 27,
   "metadata": {},
   "outputs": [
    {
     "data": {
      "text/html": [
       "<div>\n",
       "<style scoped>\n",
       "    .dataframe tbody tr th:only-of-type {\n",
       "        vertical-align: middle;\n",
       "    }\n",
       "\n",
       "    .dataframe tbody tr th {\n",
       "        vertical-align: top;\n",
       "    }\n",
       "\n",
       "    .dataframe thead th {\n",
       "        text-align: right;\n",
       "    }\n",
       "</style>\n",
       "<table border=\"1\" class=\"dataframe\">\n",
       "  <thead>\n",
       "    <tr style=\"text-align: right;\">\n",
       "      <th></th>\n",
       "      <th>Week</th>\n",
       "      <th>Session</th>\n",
       "      <th>Date</th>\n",
       "      <th>Day</th>\n",
       "      <th>Topic</th>\n",
       "      <th>Summary</th>\n",
       "      <th>Publish</th>\n",
       "      <th>Assignment</th>\n",
       "      <th>Location</th>\n",
       "      <th>Due</th>\n",
       "      <th>Type</th>\n",
       "    </tr>\n",
       "  </thead>\n",
       "  <tbody>\n",
       "    <tr>\n",
       "      <th>0</th>\n",
       "      <td>1</td>\n",
       "      <td>1</td>\n",
       "      <td>2020-08-31</td>\n",
       "      <td>Mon</td>\n",
       "      <td>Welcome and class overview</td>\n",
       "      <td>In this class we will simply be providing a hi...</td>\n",
       "      <td>1</td>\n",
       "      <td>In this starter assignment, we are just going ...</td>\n",
       "      <td>files/assignments/01starter.xlsx</td>\n",
       "      <td>2020-09-07</td>\n",
       "      <td>File</td>\n",
       "    </tr>\n",
       "    <tr>\n",
       "      <th>1</th>\n",
       "      <td>1</td>\n",
       "      <td>2</td>\n",
       "      <td>2020-09-03</td>\n",
       "      <td>Thu</td>\n",
       "      <td>Intro to Management Science</td>\n",
       "      <td>More detail on specific approches.</td>\n",
       "      <td>1</td>\n",
       "      <td>This will test your ability to use Jupyter not...</td>\n",
       "      <td>assignments/02starter</td>\n",
       "      <td>2020-09-10</td>\n",
       "      <td>Notebook</td>\n",
       "    </tr>\n",
       "    <tr>\n",
       "      <th>2</th>\n",
       "      <td>2</td>\n",
       "      <td>NaN</td>\n",
       "      <td>2020-09-07</td>\n",
       "      <td>Mon</td>\n",
       "      <td>Labor day – no class</td>\n",
       "      <td>NaN</td>\n",
       "      <td>0</td>\n",
       "      <td>NaN</td>\n",
       "      <td>NaN</td>\n",
       "      <td>NaT</td>\n",
       "      <td>NaN</td>\n",
       "    </tr>\n",
       "    <tr>\n",
       "      <th>3</th>\n",
       "      <td>2</td>\n",
       "      <td>3</td>\n",
       "      <td>2020-09-08</td>\n",
       "      <td>Tue</td>\n",
       "      <td>Linear Programming 1</td>\n",
       "      <td>TBD</td>\n",
       "      <td>1</td>\n",
       "      <td>NaN</td>\n",
       "      <td>NaN</td>\n",
       "      <td>NaT</td>\n",
       "      <td>NaN</td>\n",
       "    </tr>\n",
       "    <tr>\n",
       "      <th>4</th>\n",
       "      <td>2</td>\n",
       "      <td>4</td>\n",
       "      <td>2020-09-10</td>\n",
       "      <td>Thu</td>\n",
       "      <td>Linear Programming 2</td>\n",
       "      <td>TBD</td>\n",
       "      <td>1</td>\n",
       "      <td>NaN</td>\n",
       "      <td>NaN</td>\n",
       "      <td>NaT</td>\n",
       "      <td>NaN</td>\n",
       "    </tr>\n",
       "  </tbody>\n",
       "</table>\n",
       "</div>"
      ],
      "text/plain": [
       "   Week  Session       Date  Day                         Topic  \\\n",
       "0     1        1 2020-08-31  Mon   Welcome and class overview    \n",
       "1     1        2 2020-09-03  Thu  Intro to Management Science    \n",
       "2     2      NaN 2020-09-07  Mon          Labor day – no class   \n",
       "3     2        3 2020-09-08  Tue          Linear Programming 1   \n",
       "4     2        4 2020-09-10  Thu         Linear Programming 2    \n",
       "\n",
       "                                             Summary  Publish  \\\n",
       "0  In this class we will simply be providing a hi...        1   \n",
       "1                 More detail on specific approches.        1   \n",
       "2                                                NaN        0   \n",
       "3                                                TBD        1   \n",
       "4                                                TBD        1   \n",
       "\n",
       "                                          Assignment  \\\n",
       "0  In this starter assignment, we are just going ...   \n",
       "1  This will test your ability to use Jupyter not...   \n",
       "2                                                NaN   \n",
       "3                                                NaN   \n",
       "4                                                NaN   \n",
       "\n",
       "                           Location        Due      Type  \n",
       "0  files/assignments/01starter.xlsx 2020-09-07      File  \n",
       "1             assignments/02starter 2020-09-10  Notebook  \n",
       "2                               NaN        NaT       NaN  \n",
       "3                               NaN        NaT       NaN  \n",
       "4                               NaN        NaT       NaN  "
      ]
     },
     "execution_count": 27,
     "metadata": {},
     "output_type": "execute_result"
    }
   ],
   "source": [
    "schedule.head()"
   ]
  },
  {
   "cell_type": "code",
   "execution_count": 28,
   "metadata": {},
   "outputs": [
    {
     "name": "stdout",
     "output_type": "stream",
     "text": [
      "Converting datetime to \n",
      "Converting datetime to \n",
      "Outputting file: ../quant/schedule.md\n"
     ]
    }
   ],
   "source": [
    "schedule_str=bd.pandas_to_md(schedule, book_path / 'schedule.md', 'Schedule', \\\n",
    "                             include = ['Week', 'Session', 'Date', 'Day', 'Topic', 'Summary', 'Assignment', 'Due'])"
   ]
  },
  {
   "cell_type": "code",
   "execution_count": 29,
   "metadata": {},
   "outputs": [
    {
     "name": "stdout",
     "output_type": "stream",
     "text": [
      "Outputting  session1.md\n",
      "Outputting  session2.md\n",
      "Outputting  session3.md\n",
      "Outputting  session4.md\n"
     ]
    }
   ],
   "source": [
    "#Generate Session Files\n",
    "toc=bd.generate_sessions(config, toc, 2, schedule_str, book_path / 'sessions',content, ['Before Class', 'In Class', 'Assignment'])"
   ]
  },
  {
   "cell_type": "code",
   "execution_count": 30,
   "metadata": {},
   "outputs": [
    {
     "name": "stdout",
     "output_type": "stream",
     "text": [
      "Updating the file: ../quant/_toc.yml\n"
     ]
    }
   ],
   "source": [
    "bd.update_yaml_file(book_path / '_toc.yml', toc)"
   ]
  },
  {
   "cell_type": "code",
   "execution_count": null,
   "metadata": {},
   "outputs": [],
   "source": []
  }
 ],
 "metadata": {
  "kernelspec": {
   "display_name": "Python 3",
   "language": "python",
   "name": "python3"
  },
  "language_info": {
   "codemirror_mode": {
    "name": "ipython",
    "version": 3
   },
   "file_extension": ".py",
   "mimetype": "text/x-python",
   "name": "python",
   "nbconvert_exporter": "python",
   "pygments_lexer": "ipython3",
   "version": "3.7.6"
  }
 },
 "nbformat": 4,
 "nbformat_minor": 4
}

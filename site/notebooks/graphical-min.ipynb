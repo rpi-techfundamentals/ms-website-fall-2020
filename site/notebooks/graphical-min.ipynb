{
 "cells": [
  {
   "cell_type": "markdown",
   "metadata": {},
   "source": [
    "# Graphical Solutions \n",
    "## Introduction to Linear Programming"
   ]
  },
  {
   "cell_type": "code",
   "execution_count": 1,
   "metadata": {},
   "outputs": [],
   "source": [
    "#Import some required packages. \n",
    "import numpy as np\n",
    "import matplotlib.pyplot as plt\n",
    "%matplotlib inline"
   ]
  },
  {
   "cell_type": "markdown",
   "metadata": {},
   "source": [
    "Graphical solution is limited to linear programming models containing only two decision variables (can be used with three variables but only with great difficulty).\n",
    "\n",
    "Graphical methods provide a picture of how a solution for a linear programming problem is obtained.\n"
   ]
  },
  {
   "cell_type": "markdown",
   "metadata": {},
   "source": [
    "## Product mix problem - Farmers Fields\n",
    "Problem: How much of each brand to purchase to minimize total cost of fertilizer given following data ?\n",
    "\n",
    "Product resource requirements and unit profit:\n",
    "Two brands of fertilizer available – Super-gro, Crop-quick.\n",
    "Field requires at least 16 pounds of nitrogen and 24 pounds of phosphate.\n",
    "Super-gro costs $6 per bag, Crop-quick $3 per bag.\n",
    "\n",
    "\n",
    "Decision Variables:\n",
    "\n",
    "$x_{1}$ = number of bags of Super-gro\n",
    "\n",
    "$x_{2}$ = number of bags of Crop-quick\n",
    "\n",
    "\n",
    "Cost (Z) minimization \n",
    "\n",
    "Z = 6$x_{1}$ + 3$x_{2}$\n",
    "\n",
    "\n",
    "Nitrogen Constraint\n",
    "\n",
    "2$x_{1}$ + 4$x_{2}$ >= 16\n",
    "\n",
    "Phosphate Constraint Check\n",
    "\n",
    "4$x_{1}$ + 3$x_{2}$ >= 24\n",
    "\n",
    "Non-negativitiy Constraint\n",
    "\n",
    "$x_{1}$ > 0\n",
    "\n",
    "$x_{2}$ > 0\n",
    "\n"
   ]
  },
  {
   "cell_type": "code",
   "execution_count": 2,
   "metadata": {},
   "outputs": [],
   "source": [
    "#Create an Array X2 from 0 to 60, and it should have a length of 61.\n",
    "x2 = np.linspace(0, 14, 15) "
   ]
  },
  {
   "cell_type": "code",
   "execution_count": 3,
   "metadata": {},
   "outputs": [
    {
     "data": {
      "text/plain": [
       "array([ 0.,  1.,  2.,  3.,  4.,  5.,  6.,  7.,  8.,  9., 10., 11., 12.,\n",
       "       13., 14.])"
      ]
     },
     "execution_count": 3,
     "metadata": {},
     "output_type": "execute_result"
    }
   ],
   "source": [
    "#This is the same as starting your Excel Spreadsheet with incrementing X2\n",
    "x2"
   ]
  },
  {
   "cell_type": "code",
   "execution_count": 4,
   "metadata": {},
   "outputs": [
    {
     "data": {
      "text/plain": [
       "array([  8.,   6.,   4.,   2.,   0.,  -2.,  -4.,  -6.,  -8., -10., -12.,\n",
       "       -14., -16., -18., -20.])"
      ]
     },
     "execution_count": 4,
     "metadata": {},
     "output_type": "execute_result"
    }
   ],
   "source": [
    "#Nitrogen Constraint\n",
    "# 2x1  + 4x2  >= 16\n",
    "# x1= 8-2x2\n",
    "c1 =  8 - 2*x2\n",
    "c1"
   ]
  },
  {
   "cell_type": "code",
   "execution_count": 5,
   "metadata": {},
   "outputs": [
    {
     "data": {
      "text/plain": [
       "array([ 6.  ,  5.25,  4.5 ,  3.75,  3.  ,  2.25,  1.5 ,  0.75,  0.  ,\n",
       "       -0.75, -1.5 , -2.25, -3.  , -3.75, -4.5 ])"
      ]
     },
     "execution_count": 5,
     "metadata": {},
     "output_type": "execute_result"
    }
   ],
   "source": [
    "#Clay (Physicial Resource) Constraint Check\n",
    "#4x1 + 3x2 <= 120\n",
    "#4x1  + 3 x2  >= 24\n",
    "c2  = (24 - 3*x2)/4\n",
    "c2"
   ]
  },
  {
   "cell_type": "code",
   "execution_count": 23,
   "metadata": {},
   "outputs": [
    {
     "data": {
      "text/plain": [
       "array([ 8.  ,  6.  ,  4.5 ,  3.75,  3.  ,  2.25,  1.5 ,  0.75,  0.  ,\n",
       "       -0.75, -1.5 , -2.25, -3.  , -3.75, -4.5 ])"
      ]
     },
     "execution_count": 23,
     "metadata": {},
     "output_type": "execute_result"
    }
   ],
   "source": [
    "#Calculate the maximim value of X1 you can make per the 2 different constraints.\n",
    "\n",
    "ct = np.maximum(c1,c2)\n",
    "ct"
   ]
  },
  {
   "cell_type": "code",
   "execution_count": 24,
   "metadata": {},
   "outputs": [
    {
     "data": {
      "text/plain": [
       "array([8.  , 6.  , 4.5 , 3.75, 3.  , 2.25, 1.5 , 0.75, 0.  ])"
      ]
     },
     "execution_count": 24,
     "metadata": {},
     "output_type": "execute_result"
    }
   ],
   "source": [
    "ct=ct[0:9] #removes negative values\n",
    "ct"
   ]
  },
  {
   "cell_type": "code",
   "execution_count": 26,
   "metadata": {},
   "outputs": [
    {
     "data": {
      "text/plain": [
       "array([48. , 39. , 33. , 31.5, 30. , 28.5, 27. , 25.5, 24. ])"
      ]
     },
     "execution_count": 26,
     "metadata": {},
     "output_type": "execute_result"
    }
   ],
   "source": [
    "#Calculate the minimum cost from ct\n",
    "#Z = 6 x1  + 3 x2\n",
    "cost = 6*ct+3*x2[0:9]\n",
    "cost"
   ]
  },
  {
   "cell_type": "code",
   "execution_count": 8,
   "metadata": {
    "collapsed": false,
    "jupyter": {
     "outputs_hidden": false
    }
   },
   "outputs": [
    {
     "data": {
      "text/plain": [
       "<matplotlib.legend.Legend at 0x7fc7ac734f90>"
      ]
     },
     "execution_count": 8,
     "metadata": {},
     "output_type": "execute_result"
    },
    {
     "data": {
      "image/png": "[encoded data removed]",
      "text/plain": [
       "<Figure size 432x288 with 1 Axes>"
      ]
     },
     "metadata": {
      "needs_background": "light"
     },
     "output_type": "display_data"
    }
   ],
   "source": [
    "# Make plot for the Nitrogen Constraint\n",
    "\n",
    "plt.plot(c1, x2, label=r'2$x_{1}$ + 4$x_{2}$ >= 16')\n",
    "plt.xlim((0, 14))\n",
    "plt.ylim((0, 14))\n",
    "plt.xlabel(r'$x_{1}$') #Latex way of writing X subscript 1 (See Markdown)\n",
    "plt.ylabel(r'$x_{2}$') #Latex way of writing X subscript 1 (See Markdown)\n",
    "plt.legend(bbox_to_anchor=(1.05, 1), loc=2, borderaxespad=0.)\n",
    "#plt.fill_between(x2,c1, color='grey', alpha=0.5)\n"
   ]
  },
  {
   "cell_type": "code",
   "execution_count": 9,
   "metadata": {},
   "outputs": [
    {
     "data": {
      "text/plain": [
       "<matplotlib.legend.Legend at 0x7fc7ac95cf10>"
      ]
     },
     "execution_count": 9,
     "metadata": {},
     "output_type": "execute_result"
    },
    {
     "data": {
      "image/png": "[encoded data removed]",
      "text/plain": [
       "<Figure size 432x288 with 1 Axes>"
      ]
     },
     "metadata": {
      "needs_background": "light"
     },
     "output_type": "display_data"
    }
   ],
   "source": [
    "#Graph Phosphate Constraint Check\n",
    "\n",
    "\n",
    "plt.plot(c2, x2, label=r'4$x_{1}$ + 3$x_{2}$ >= 24')\n",
    "plt.xlim((0, 14))\n",
    "plt.ylim((0, 14))\n",
    "plt.xlabel(r'$x_{1}$') #Latex way of writing X subscript 1 (See Markdown)\n",
    "plt.ylabel(r'$x_{2}$') #Latex way of writing X subscript 1 (See Markdown)\n",
    "plt.legend(bbox_to_anchor=(1.05, 1), loc=2, borderaxespad=0.)\n",
    "#plt.fill_between(c2, x2, color='grey', alpha=0.5)"
   ]
  },
  {
   "cell_type": "code",
   "execution_count": 10,
   "metadata": {},
   "outputs": [
    {
     "data": {
      "text/plain": [
       "<matplotlib.legend.Legend at 0x7fc7acbea510>"
      ]
     },
     "execution_count": 10,
     "metadata": {},
     "output_type": "execute_result"
    },
    {
     "data": {
      "image/png": "[encoded data removed]",
      "text/plain": [
       "<Figure size 432x288 with 1 Axes>"
      ]
     },
     "metadata": {
      "needs_background": "light"
     },
     "output_type": "display_data"
    }
   ],
   "source": [
    "# Make plot for the combined constraints.\n",
    "plt.plot(c1, x2, label=r'2$x_{1}$ + 4$x_{2}$ >= 16')\n",
    "plt.plot(c2, x2, label=r'4$x_{1}$ + 3$x_{2}$ >= 24')\n",
    "#plt.plot(ct, x2, label=r'min(x$x_{1}$)')\n",
    "plt.xlim((0, 14))\n",
    "plt.ylim((0, 14))\n",
    "plt.xlabel(r'$x_{1}$') #Latex way of writing X subscript 1 (See Markdown)\n",
    "plt.ylabel(r'$x_{2}$') #Latex way of writing X subscript 1 (See Markdown)\n",
    "plt.legend(bbox_to_anchor=(1.05, 1), loc=2, borderaxespad=0.)\n",
    "#plt.fill_between(ct, x2,  color='grey', alpha=0.5)"
   ]
  },
  {
   "cell_type": "markdown",
   "metadata": {},
   "source": [
    "Our solution must be in in lies somewhere in the grey feasible region in the graph above. However, according to the fundamental theorum of Linear programming we know it is at a vertex. \n",
    "\n",
    "\"In mathematical optimization, the fundamental theorem of linear programming states, in a weak formulation, that the maxima and minima of a linear function over a convex polygonal region occur at the region's corners. Further, if an extreme value occurs at two corners, then it must also occur everywhere on the line segment between them.\"\n",
    "\n",
    "- [Wikipedia](https://en.wikipedia.org/wiki/Fundamental_theorem_of_linear_programming)"
   ]
  },
  {
   "cell_type": "code",
   "execution_count": 19,
   "metadata": {},
   "outputs": [
    {
     "data": {
      "text/plain": [
       "8"
      ]
     },
     "execution_count": 19,
     "metadata": {},
     "output_type": "execute_result"
    }
   ],
   "source": [
    "#This returns the index position of the maximum value\n",
    "min_value = np.argmin(cost)\n",
    "min_value"
   ]
  },
  {
   "cell_type": "code",
   "execution_count": 20,
   "metadata": {},
   "outputs": [
    {
     "data": {
      "text/plain": [
       "24.0"
      ]
     },
     "execution_count": 20,
     "metadata": {},
     "output_type": "execute_result"
    }
   ],
   "source": [
    "#Calculate The min cost that is made. \n",
    "profit_answer=cost[min_value]\n",
    "profit_answer"
   ]
  },
  {
   "cell_type": "code",
   "execution_count": 21,
   "metadata": {},
   "outputs": [
    {
     "data": {
      "text/plain": [
       "8.0"
      ]
     },
     "execution_count": 21,
     "metadata": {},
     "output_type": "execute_result"
    }
   ],
   "source": [
    "# Verify all constraints are integers\n",
    "x2_answer = x2[min_value]\n",
    "x2_answer"
   ]
  },
  {
   "cell_type": "code",
   "execution_count": 22,
   "metadata": {},
   "outputs": [
    {
     "data": {
      "text/plain": [
       "0.0"
      ]
     },
     "execution_count": 22,
     "metadata": {},
     "output_type": "execute_result"
    }
   ],
   "source": [
    "# Verify all constraints are integers\n",
    "ct_answer = ct[min_value]\n",
    "ct_answer"
   ]
  },
  {
   "cell_type": "code",
   "execution_count": null,
   "metadata": {},
   "outputs": [],
   "source": []
  }
 ],
 "metadata": {
  "kernelspec": {
   "display_name": "Python 3",
   "language": "python",
   "name": "python3"
  },
  "language_info": {
   "codemirror_mode": {
    "name": "ipython",
    "version": 3
   },
   "file_extension": ".py",
   "mimetype": "text/x-python",
   "name": "python",
   "nbconvert_exporter": "python",
   "pygments_lexer": "ipython3",
   "version": "3.7.6"
  }
 },
 "nbformat": 4,
 "nbformat_minor": 4
}

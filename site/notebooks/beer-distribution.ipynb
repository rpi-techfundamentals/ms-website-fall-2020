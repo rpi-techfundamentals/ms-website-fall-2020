{
  "cells": [
    {
      "cell_type": "markdown",
      "source": [
        "# Network Flow Models\n",
        "## Introduction to Linear Programming\n",
        "\n",
        "Computational environments provide organizations with the ability to implement solutions to complex time, in real time.  \n",
        "\n",
        "[Scikit Learn, Pulp, CPLEX, and Gurobi](https://medium.com/opex-analytics/optimization-modeling-in-python-pulp-gurobi-and-cplex-83a62129807a) are  Python packages which provide capabilities for Linear programming and optimization. \n"
      ],
      "metadata": {
        "id": "eMEHvYa0nPEZ"
      }
    },
    {
      "cell_type": "code",
      "source": [
        "!pip install pulp"
      ],
      "outputs": [
        {
          "output_type": "stream",
          "name": "stdout",
          "text": [
            "Collecting pulp\n",
            "\u001b[?25l  Downloading https://files.pythonhosted.org/packages/c3/22/5743d7b5d69f84fb63a0b4925862522dbf80e82defcd0c447afb694f3fd0/PuLP-2.3-py3-none-any.whl (40.6MB)\n",
            "\u001b[K     |████████████████████████████████| 40.6MB 110kB/s \n",
            "\u001b[?25hCollecting amply>=0.1.2\n",
            "  Downloading https://files.pythonhosted.org/packages/f3/c5/dfa09dd2595a2ab2ab4e6fa7bebef9565812722e1980d04b0edce5032066/amply-0.1.4-py3-none-any.whl\n",
            "Requirement already satisfied: pyparsing in /usr/local/lib/python3.6/dist-packages (from amply>=0.1.2->pulp) (2.4.7)\n",
            "Requirement already satisfied: docutils>=0.3 in /usr/local/lib/python3.6/dist-packages (from amply>=0.1.2->pulp) (0.16)\n",
            "Installing collected packages: amply, pulp\n",
            "Successfully installed amply-0.1.4 pulp-2.3\n"
          ]
        }
      ],
      "execution_count": null,
      "metadata": {
        "id": "L_jGgDmLnPEa",
        "outputId": "e740ae77-e756-49cb-b5b1-55520aeabf66",
        "colab": {
          "base_uri": "https://localhost:8080/",
          "height": 194
        }
      }
    },
    {
      "cell_type": "code",
      "source": [
        "#Import some required packages. \n",
        "import numpy as np\n",
        "import matplotlib.pyplot as plt\n",
        "%matplotlib inline"
      ],
      "outputs": [],
      "execution_count": null,
      "metadata": {
        "id": "-_dZAyMPnPEf"
      }
    },
    {
      "cell_type": "markdown",
      "source": [
        "This is adopted from the Pulp Examples [https://github.com/coin-or/pulp/blob/master/examples/BeerDistributionProblem.py](https://github.com/coin-or/pulp/blob/master/examples/BeerDistributionProblem.py) \n",
        "\n",
        "Copyright (c) 2002-2005, Jean-Sebastien Roy (js@jeannot.org)\n",
        "Modifications Copyright (c) 2007- Stuart Anthony Mitchell (s.mitchell@auckland.ac.nz)\n",
        "\n",
        "Permission is hereby granted, free of charge, to any person obtaining a\n",
        "copy of this software and associated documentation files (the\n",
        "\"Software\"), to deal in the Software without restriction, including\n",
        "without limitation the rights to use, copy, modify, merge, publish,\n",
        "distribute, sublicense, and/or sell copies of the Software, and to\n",
        "permit persons to whom the Software is furnished to do so, subject to\n",
        "the following conditions:\n",
        "\n",
        "The above copyright notice and this permission notice shall be included\n",
        "in all copies or substantial portions of the Software.\n",
        "\n",
        "THE SOFTWARE IS PROVIDED \"AS IS\", WITHOUT WARRANTY OF ANY KIND, EXPRESS\n",
        "OR IMPLIED, INCLUDING BUT NOT LIMITED TO THE WARRANTIES OF\n",
        "MERCHANTABILITY, FITNESS FOR A PARTICULAR PURPOSE AND NONINFRINGEMENT.\n",
        "IN NO EVENT SHALL THE AUTHORS OR COPYRIGHT HOLDERS BE LIABLE FOR ANY\n",
        "CLAIM, DAMAGES OR OTHER LIABILITY, WHETHER IN AN ACTION OF CONTRACT,\n",
        "TORT OR OTHERWISE, ARISING FROM, OUT OF OR IN CONNECTION WITH THE\n",
        "SOFTWARE OR THE USE OR OTHER DEALINGS IN THE SOFTWARE.\n",
        "https://github.com/coin-or/pulp/blob/master/LICENSE\n"
      ],
      "metadata": {
        "id": "LRaQ_ltTnSvy"
      }
    },
    {
      "cell_type": "markdown",
      "source": [
        "The problem motivation is found here:\n",
        "https://www.coin-or.org/PuLP/CaseStudies/a_transportation_problem.html"
      ],
      "metadata": {
        "id": "8fk-9pVThTop"
      }
    },
    {
      "cell_type": "code",
      "source": [
        "from pulp import *\n",
        "\n",
        "# Creates a list of all the supply nodes\n",
        "Warehouses = [\"A\", \"B\"]\n",
        "\n",
        "# Creates a dictionary for the number of units of supply for each supply node\n",
        "supply = {\"A\": 1000,\n",
        "          \"B\": 4000}\n",
        "\n",
        "# Creates a list of all demand nodes\n",
        "Bars = [\"1\", \"2\", \"3\", \"4\", \"5\"]\n",
        "\n",
        "# Creates a dictionary for the number of units of demand for each demand node\n",
        "demand = {\"1\":500,\n",
        "          \"2\":900,\n",
        "          \"3\":1800,\n",
        "          \"4\":200,\n",
        "          \"5\":700,}\n",
        "\n",
        "# Creates a list of costs of each transportation path\n",
        "costs = [   #Bars\n",
        "         #1 2 3 4 5\n",
        "         [2,4,5,2,1],#A   Warehouses\n",
        "         [3,1,3,2,3] #B\n",
        "         ]\n",
        "\n"
      ],
      "outputs": [],
      "execution_count": null,
      "metadata": {
        "id": "MO8Tkbuonn37"
      }
    },
    {
      "cell_type": "code",
      "source": [
        "# The cost data is made into a dictionary\n",
        "costs = makeDict([Warehouses,Bars],costs,0)"
      ],
      "outputs": [],
      "execution_count": null,
      "metadata": {
        "id": "7veDE9YPn8Br"
      }
    },
    {
      "cell_type": "code",
      "source": [
        "# Creates the 'prob' variable to contain the problem data\n",
        "prob = LpProblem(\"BeerDistributionProblem\",LpMinimize)"
      ],
      "outputs": [],
      "execution_count": null,
      "metadata": {
        "id": "v61G3C4WoBWe"
      }
    },
    {
      "cell_type": "code",
      "source": [
        "# Creates a list of tuples containing all the possible routes for transport\n",
        "Routes = [(w,b) for w in Warehouses for b in Bars]\n",
        "\n",
        "# A dictionary called 'Vars' is created to contain the referenced variables(the routes)\n",
        "vars = LpVariable.dicts(\"Route\",(Warehouses,Bars),0,None,LpInteger)"
      ],
      "outputs": [],
      "execution_count": null,
      "metadata": {
        "id": "8RvmST5eolxB"
      }
    },
    {
      "cell_type": "code",
      "source": [
        "# The objective function is added to 'prob' first\n",
        "prob += lpSum([vars[w][b]*costs[w][b] for (w,b) in Routes]), \"Sum_of_Transporting_Costs\"\n",
        "\n",
        "# The supply maximum constraints are added to prob for each supply node (warehouse)\n",
        "for w in Warehouses:\n",
        "    prob += lpSum([vars[w][b] for b in Bars])<=supply[w], \"Sum_of_Products_out_of_Warehouse_%s\"%w\n",
        "\n",
        "# The demand minimum constraints are added to prob for each demand node (bar)\n",
        "for b in Bars:\n",
        "    prob += lpSum([vars[w][b] for w in Warehouses])>=demand[b], \"Sum_of_Products_into_Bar%s\"%b"
      ],
      "outputs": [],
      "execution_count": null,
      "metadata": {
        "id": "7OtG0A4kovc2"
      }
    },
    {
      "cell_type": "markdown",
      "source": [
        "## Solve\n",
        "\nWe now solve the system of equations with the solve command. "
      ],
      "metadata": {
        "id": "CcMM1Xo3nPEy"
      }
    },
    {
      "cell_type": "code",
      "source": [
        "#Solve the program\n",
        "prob.solve()\n"
      ],
      "outputs": [
        {
          "output_type": "execute_result",
          "execution_count": 17,
          "data": {
            "text/plain": [
              "1"
            ]
          },
          "metadata": {
            "tags": []
          }
        }
      ],
      "execution_count": null,
      "metadata": {
        "id": "9aPbZ8OLnPEz",
        "outputId": "c5b2d36e-c035-466d-8686-ac5692ccc569",
        "colab": {
          "base_uri": "https://localhost:8080/",
          "height": 55
        }
      }
    },
    {
      "cell_type": "markdown",
      "source": [
        "## Check the Status\n",
        "\n",
        "Here are 5 status codes:\n",
        "* **Not Solved**: Status prior to solving the problem.\n",
        "* **Optimal**: An optimal solution has been found.\n",
        "* **Infeasible**: There are no feasible solutions (e.g. if you set the constraints x <= 1 and x >=2).\n",
        "* **Unbounded**: The constraints are not bounded, maximising the solution will tend towards infinity (e.g. if the only constraint was x >= 3).\n",
        "* **Undefined**: The optimal solution may exist but may not have been found."
      ],
      "metadata": {
        "id": "pB4ak241nPE5"
      }
    },
    {
      "cell_type": "code",
      "source": [
        "pl.LpStatus[prob.status]"
      ],
      "outputs": [
        {
          "output_type": "execute_result",
          "execution_count": 18,
          "data": {
            "application/vnd.google.colaboratory.intrinsic+json": {
              "type": "string"
            },
            "text/plain": [
              "'Optimal'"
            ]
          },
          "metadata": {
            "tags": []
          }
        }
      ],
      "execution_count": null,
      "metadata": {
        "id": "atGT09CBnPE5",
        "outputId": "42dfae15-fc06-48d2-9652-8c4893e9b5a6",
        "colab": {
          "base_uri": "https://localhost:8080/",
          "height": 58
        }
      }
    },
    {
      "cell_type": "code",
      "source": [
        "for variable in prob.variables():\n",
        "    print(variable.name,\" = \", variable.varValue)"
      ],
      "outputs": [
        {
          "output_type": "stream",
          "name": "stdout",
          "text": [
            "Route_A_1  =  300.0\n",
            "Route_A_2  =  0.0\n",
            "Route_A_3  =  0.0\n",
            "Route_A_4  =  0.0\n",
            "Route_A_5  =  700.0\n",
            "Route_B_1  =  200.0\n",
            "Route_B_2  =  900.0\n",
            "Route_B_3  =  1800.0\n",
            "Route_B_4  =  200.0\n",
            "Route_B_5  =  0.0\n"
          ]
        }
      ],
      "execution_count": null,
      "metadata": {
        "id": "Yi9JwoPlnPE7",
        "outputId": "69891424-2e13-4011-8706-d64ec8d4d30a",
        "colab": {
          "base_uri": "https://localhost:8080/",
          "height": 211
        }
      }
    },
    {
      "cell_type": "code",
      "source": [
        "# The optimised objective function value is printed to the screen    \n",
        "print(\"Total Cost of Transportation = \", value(prob.objective))"
      ],
      "outputs": [
        {
          "output_type": "stream",
          "name": "stdout",
          "text": [
            "Total Cost of Transportation =  8600.0\n"
          ]
        }
      ],
      "execution_count": null,
      "metadata": {
        "id": "Rwpxgi_pj3eb",
        "outputId": "87c2d58a-3074-4af3-ff50-14a526df463a",
        "colab": {
          "base_uri": "https://localhost:8080/",
          "height": 55
        }
      }
    },
    {
      "cell_type": "markdown",
      "source": [
        "## Sensitivity Analysis"
      ],
      "metadata": {
        "id": "XWLzIGMmnPE_"
      }
    },
    {
      "cell_type": "code",
      "source": [
        "for name, c in prob.constraints.items():\n",
        "    print (name, \":\", c, \"\\t\", c.pi, \"\\t\\t\", c.slack)"
      ],
      "outputs": [
        {
          "output_type": "stream",
          "name": "stdout",
          "text": [
            "Sum_of_Products_out_of_Warehouse_A : Route_A_1 + Route_A_2 + Route_A_3 + Route_A_4 + Route_A_5 <= 1000 \t 0.0 \t\t -0.0\n",
            "Sum_of_Products_out_of_Warehouse_B : Route_B_1 + Route_B_2 + Route_B_3 + Route_B_4 + Route_B_5 <= 4000 \t 0.0 \t\t 900.0\n",
            "Sum_of_Products_into_Bar1 : Route_A_1 + Route_B_1 >= 500 \t 0.0 \t\t -0.0\n",
            "Sum_of_Products_into_Bar2 : Route_A_2 + Route_B_2 >= 900 \t 0.0 \t\t -0.0\n",
            "Sum_of_Products_into_Bar3 : Route_A_3 + Route_B_3 >= 1800 \t 0.0 \t\t -0.0\n",
            "Sum_of_Products_into_Bar4 : Route_A_4 + Route_B_4 >= 200 \t 0.0 \t\t -0.0\n",
            "Sum_of_Products_into_Bar5 : Route_A_5 + Route_B_5 >= 700 \t 0.0 \t\t -0.0\n"
          ]
        }
      ],
      "execution_count": 21,
      "metadata": {
        "id": "TJoF2rZQnPE_",
        "outputId": "18d08a80-f79d-442a-eeb2-9a6ed6304ebf",
        "colab": {
          "base_uri": "https://localhost:8080/",
          "height": 159
        }
      }
    }
  ],
  "metadata": {
    "kernelspec": {
      "display_name": "Python 3",
      "language": "python",
      "name": "python3"
    },
    "language_info": {
      "codemirror_mode": {
        "name": "ipython",
        "version": 3
      },
      "file_extension": ".py",
      "mimetype": "text/x-python",
      "name": "python",
      "nbconvert_exporter": "python",
      "pygments_lexer": "ipython3",
      "version": "3.7.6"
    },
    "colab": {
      "name": "beer-distribution.ipynb",
      "provenance": []
    },
    "nteract": {
      "version": "0.12.3"
    }
  },
  "nbformat": 4,
  "nbformat_minor": 0
}
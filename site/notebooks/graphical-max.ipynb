{
  "cells": [
    {
      "cell_type": "markdown",
      "source": [
        "# Graphical Maximinization \n",
        "## Introduction to Linear Programming"
      ],
      "metadata": {}
    },
    {
      "cell_type": "code",
      "source": [
        "#Import some required packages. \n",
        "import numpy as np\n",
        "import matplotlib.pyplot as plt\n",
        "%matplotlib inline"
      ],
      "outputs": [],
      "execution_count": 1,
      "metadata": {}
    },
    {
      "cell_type": "markdown",
      "source": [
        "Graphical solution is limited to linear programming models containing only two decision variables (can be used with three variables but only with great difficulty).\n",
        "\n",
        "Graphical methods provide a picture of how a solution for a linear programming problem is obtained.\n"
      ],
      "metadata": {}
    },
    {
      "cell_type": "markdown",
      "source": [
        "## Product mix problem - Beaver Creek Pottery Company\n",
        "How many bowls and mugs should be produced to maximize profits given labor and materials constraints?\n",
        "\n",
        "Product resource requirements and unit profit:\n",
        "\n",
        "Decision Variables:\n",
        "\n",
        "$x_{1}$ = number of bowls to produce per day\n",
        "\n",
        "$x_{2}$ = number of mugs to produce per day\n",
        "\n\n",
        "Profit (Z)  Mazimization\n",
        "\n",
        "Z = 40$x_{1}$ + 50$x_{2}$\n",
        "\n",
        "Labor Constraint Check\n",
        "\n",
        "1$x_{1}$ + 2$x_{2}$ <= 40\n",
        "\n",
        "Clay (Physicial Resource) Constraint Check\n",
        "\n",
        "4$x_{1}$ + 3$x_{2}$ <= 120\n",
        "\n",
        "Negative Production Constaint Check\n",
        "\n",
        "$x_{1}$ > 0\n",
        "\n",
        "$x_{2}$ > 0\n",
        "\n"
      ],
      "metadata": {}
    },
    {
      "cell_type": "code",
      "source": [
        "#Create an Array X2 from 0 to 60, and it should have a length of 61.\n",
        "x2 = np.linspace(0, 60, 61) "
      ],
      "outputs": [],
      "execution_count": 2,
      "metadata": {}
    },
    {
      "cell_type": "code",
      "source": [
        "#This is the same as starting your Excel Spreadsheet with incrementing X2\n",
        "x2"
      ],
      "outputs": [
        {
          "output_type": "execute_result",
          "execution_count": 3,
          "data": {
            "text/plain": [
              "array([ 0.,  1.,  2.,  3.,  4.,  5.,  6.,  7.,  8.,  9., 10., 11., 12.,\n",
              "       13., 14., 15., 16., 17., 18., 19., 20., 21., 22., 23., 24., 25.,\n",
              "       26., 27., 28., 29., 30., 31., 32., 33., 34., 35., 36., 37., 38.,\n",
              "       39., 40., 41., 42., 43., 44., 45., 46., 47., 48., 49., 50., 51.,\n",
              "       52., 53., 54., 55., 56., 57., 58., 59., 60.])"
            ]
          },
          "metadata": {}
        }
      ],
      "execution_count": 3,
      "metadata": {}
    },
    {
      "cell_type": "code",
      "source": [
        "#Labor Constraint Check\n",
        "# 1x1 + 2x2 <= 40\n",
        "#x1 = 40 - 2*x2\n",
        "c1 =  40 - 2*x2\n",
        "c1"
      ],
      "outputs": [
        {
          "output_type": "execute_result",
          "execution_count": 4,
          "data": {
            "text/plain": [
              "array([ 40.,  38.,  36.,  34.,  32.,  30.,  28.,  26.,  24.,  22.,  20.,\n",
              "        18.,  16.,  14.,  12.,  10.,   8.,   6.,   4.,   2.,   0.,  -2.,\n",
              "        -4.,  -6.,  -8., -10., -12., -14., -16., -18., -20., -22., -24.,\n",
              "       -26., -28., -30., -32., -34., -36., -38., -40., -42., -44., -46.,\n",
              "       -48., -50., -52., -54., -56., -58., -60., -62., -64., -66., -68.,\n",
              "       -70., -72., -74., -76., -78., -80.])"
            ]
          },
          "metadata": {}
        }
      ],
      "execution_count": 4,
      "metadata": {}
    },
    {
      "cell_type": "code",
      "source": [
        "#Clay (Physicial Resource) Constraint Check\n",
        "#4x1 + 3x2 <= 120\n",
        "#x1 = (120 - 3*x2)/4\n",
        "c2  = (120 - 3*x2)/4\n",
        "c2"
      ],
      "outputs": [
        {
          "output_type": "execute_result",
          "execution_count": 5,
          "data": {
            "text/plain": [
              "array([ 30.  ,  29.25,  28.5 ,  27.75,  27.  ,  26.25,  25.5 ,  24.75,\n",
              "        24.  ,  23.25,  22.5 ,  21.75,  21.  ,  20.25,  19.5 ,  18.75,\n",
              "        18.  ,  17.25,  16.5 ,  15.75,  15.  ,  14.25,  13.5 ,  12.75,\n",
              "        12.  ,  11.25,  10.5 ,   9.75,   9.  ,   8.25,   7.5 ,   6.75,\n",
              "         6.  ,   5.25,   4.5 ,   3.75,   3.  ,   2.25,   1.5 ,   0.75,\n",
              "         0.  ,  -0.75,  -1.5 ,  -2.25,  -3.  ,  -3.75,  -4.5 ,  -5.25,\n",
              "        -6.  ,  -6.75,  -7.5 ,  -8.25,  -9.  ,  -9.75, -10.5 , -11.25,\n",
              "       -12.  , -12.75, -13.5 , -14.25, -15.  ])"
            ]
          },
          "metadata": {}
        }
      ],
      "execution_count": 5,
      "metadata": {}
    },
    {
      "cell_type": "code",
      "source": [
        "#Calculate the minimum of X1 you can make per the 2 different constraints.\n",
        "ct = np.minimum(c1,c2)\n",
        "ct"
      ],
      "outputs": [
        {
          "output_type": "execute_result",
          "execution_count": 6,
          "data": {
            "text/plain": [
              "array([ 30.  ,  29.25,  28.5 ,  27.75,  27.  ,  26.25,  25.5 ,  24.75,\n",
              "        24.  ,  22.  ,  20.  ,  18.  ,  16.  ,  14.  ,  12.  ,  10.  ,\n",
              "         8.  ,   6.  ,   4.  ,   2.  ,   0.  ,  -2.  ,  -4.  ,  -6.  ,\n",
              "        -8.  , -10.  , -12.  , -14.  , -16.  , -18.  , -20.  , -22.  ,\n",
              "       -24.  , -26.  , -28.  , -30.  , -32.  , -34.  , -36.  , -38.  ,\n",
              "       -40.  , -42.  , -44.  , -46.  , -48.  , -50.  , -52.  , -54.  ,\n",
              "       -56.  , -58.  , -60.  , -62.  , -64.  , -66.  , -68.  , -70.  ,\n",
              "       -72.  , -74.  , -76.  , -78.  , -80.  ])"
            ]
          },
          "metadata": {}
        }
      ],
      "execution_count": 6,
      "metadata": {}
    },
    {
      "cell_type": "code",
      "source": [
        "#remove those valuese that don't follow non-negativity constraint.\n",
        "ct= ct[0:21]\n",
        "x2= x2[0:21] #Shape of array must be the same.\n",
        "ct"
      ],
      "outputs": [
        {
          "output_type": "execute_result",
          "execution_count": 17,
          "data": {
            "text/plain": [
              "array([30.  , 29.25, 28.5 , 27.75, 27.  , 26.25, 25.5 , 24.75, 24.  ,\n",
              "       22.  , 20.  , 18.  , 16.  , 14.  , 12.  , 10.  ,  8.  ,  6.  ,\n",
              "        4.  ,  2.  ,  0.  ])"
            ]
          },
          "metadata": {}
        }
      ],
      "execution_count": 17,
      "metadata": {}
    },
    {
      "cell_type": "code",
      "source": [
        "#Calculate the profit from the constrained \n",
        "profit = 40*ct+50*x2 \n",
        "profit"
      ],
      "outputs": [
        {
          "output_type": "execute_result",
          "execution_count": 12,
          "data": {
            "text/plain": [
              "array([1200., 1220., 1240., 1260., 1280., 1300., 1320., 1340., 1360.,\n",
              "       1330., 1300., 1270., 1240., 1210., 1180., 1150., 1120., 1090.,\n",
              "       1060., 1030., 1000.])"
            ]
          },
          "metadata": {}
        }
      ],
      "execution_count": 12,
      "metadata": {}
    },
    {
      "cell_type": "code",
      "source": [
        "# Make plot for the labor constraint\n",
        "plt.plot(c1, x2, label=r'1$x_{1}$ + 2$x_{2}$ <= 40')\n",
        "plt.xlim((0, 60))\n",
        "plt.ylim((0, 60))\n",
        "plt.xlabel(r'$x_{1}$') #Latex way of writing X subscript 1 (See Markdown)\n",
        "plt.ylabel(r'$x_{2}$') #Latex way of writing X subscript 1 (See Markdown)\n",
        "plt.legend(bbox_to_anchor=(1.05, 1), loc=2, borderaxespad=0.)\n",
        "plt.fill_between(c1, x2, color='grey', alpha=0.5)\n"
      ],
      "outputs": [
        {
          "output_type": "execute_result",
          "execution_count": 27,
          "data": {
            "text/plain": [
              "<matplotlib.collections.PolyCollection at 0x7ffb8f20b810>"
            ]
          },
          "metadata": {}
        },
        {
          "output_type": "display_data",
          "data": {
            "image/png": "[encoded data removed]",
            "text/plain": [
              "<Figure size 432x288 with 1 Axes>"
            ]
          },
          "metadata": {
            "needs_background": "light"
          }
        }
      ],
      "execution_count": 27,
      "metadata": {
        "collapsed": false,
        "jupyter": {
          "outputs_hidden": false
        }
      }
    },
    {
      "cell_type": "code",
      "source": [
        "#Graph Resource Constraint\n",
        "plt.plot(c2, x2, label=r'4$x_{1}$ + 3$x_{2}$ <= 120')\n",
        "plt.xlim((0, 60))\n",
        "plt.ylim((0, 60))\n",
        "plt.xlabel(r'$x_{1}$') #Latex way of writing X subscript 1 (See Markdown)\n",
        "plt.ylabel(r'$x_{2}$') #Latex way of writing X subscript 1 (See Markdown)\n",
        "plt.legend(bbox_to_anchor=(1.05, 1), loc=2, borderaxespad=0.)\n",
        "plt.fill_between(c2, x2, color='grey', alpha=0.5)"
      ],
      "outputs": [
        {
          "output_type": "execute_result",
          "execution_count": 31,
          "data": {
            "text/plain": [
              "<matplotlib.collections.PolyCollection at 0x7ffb8f7da3d0>"
            ]
          },
          "metadata": {}
        },
        {
          "output_type": "display_data",
          "data": {
            "image/png": "[encoded data removed]",
            "text/plain": [
              "<Figure size 432x288 with 1 Axes>"
            ]
          },
          "metadata": {
            "needs_background": "light"
          }
        }
      ],
      "execution_count": 31,
      "metadata": {}
    },
    {
      "cell_type": "code",
      "source": [
        "# Make plot for the combined constraints.\n",
        "plt.plot(c1, x2, label=r'1$x_{1}$ + 2$x_{2}$ <= 40')\n",
        "plt.plot(c2, x2, label=r'4$x_{1}$ + 3$x_{2}$ <= 120')\n",
        "#plt.plot(ct, x2, label=r'min(x$x_{1}$)')\n",
        "plt.xlim((0, 60))\n",
        "plt.ylim((0, 60))\n",
        "plt.xlabel(r'$x_{1}$') #Latex way of writing X subscript 1 (See Markdown)\n",
        "plt.ylabel(r'$x_{2}$') #Latex way of writing X subscript 1 (See Markdown)\n",
        "plt.legend(bbox_to_anchor=(1.05, 1), loc=2, borderaxespad=0.)\n",
        "plt.fill_between(ct, x2,  color='grey', alpha=0.5)"
      ],
      "outputs": [
        {
          "output_type": "execute_result",
          "execution_count": 37,
          "data": {
            "text/plain": [
              "<matplotlib.collections.PolyCollection at 0x7ffb901c3510>"
            ]
          },
          "metadata": {}
        },
        {
          "output_type": "display_data",
          "data": {
            "image/png": "[encoded data removed]",
            "text/plain": [
              "<Figure size 432x288 with 1 Axes>"
            ]
          },
          "metadata": {
            "needs_background": "light"
          }
        }
      ],
      "execution_count": 37,
      "metadata": {}
    },
    {
      "cell_type": "markdown",
      "source": [
        "Our solution must be in in lies somewhere in the grey feasible region in the graph above. However, according to the fundamental theorum of Linear programming we know it is at a vertex. \n",
        "\n",
        "\"In mathematical optimization, the fundamental theorem of linear programming states, in a weak formulation, that the maxima and minima of a linear function over a convex polygonal region occur at the region's corners. Further, if an extreme value occurs at two corners, then it must also occur everywhere on the line segment between them.\"\n",
        "\n- [Wikipedia](https://en.wikipedia.org/wiki/Fundamental_theorem_of_linear_programming)"
      ],
      "metadata": {}
    },
    {
      "cell_type": "code",
      "source": [
        "#This returns the index position of the maximum value\n",
        "max_value = np.argmax(profit)\n",
        "max_value"
      ],
      "outputs": [
        {
          "output_type": "execute_result",
          "execution_count": 13,
          "data": {
            "text/plain": [
              "8"
            ]
          },
          "metadata": {}
        }
      ],
      "execution_count": 13,
      "metadata": {}
    },
    {
      "cell_type": "code",
      "source": [
        "#Calculate The max Profit that is made. \n",
        "profit_answer=profit[max_value]\n",
        "profit_answer"
      ],
      "outputs": [
        {
          "output_type": "execute_result",
          "execution_count": 14,
          "data": {
            "text/plain": [
              "1360.0"
            ]
          },
          "metadata": {}
        }
      ],
      "execution_count": 14,
      "metadata": {}
    },
    {
      "cell_type": "code",
      "source": [
        "# Verify all constraints are integers\n",
        "x2_answer = x2[max_value]\n",
        "x2_answer"
      ],
      "outputs": [
        {
          "output_type": "execute_result",
          "execution_count": 15,
          "data": {
            "text/plain": [
              "8.0"
            ]
          },
          "metadata": {}
        }
      ],
      "execution_count": 15,
      "metadata": {}
    },
    {
      "cell_type": "code",
      "source": [
        "# Verify all constraints are integers\n",
        "ct_answer = ct[max_value]\n",
        "ct_answer"
      ],
      "outputs": [
        {
          "output_type": "execute_result",
          "execution_count": 16,
          "data": {
            "text/plain": [
              "24.0"
            ]
          },
          "metadata": {}
        }
      ],
      "execution_count": 16,
      "metadata": {}
    },
    {
      "cell_type": "markdown",
      "source": [
        "## Q1 Challenge\n",
        "\n",
        "What if the profit function is:\n",
        "\n",
        "Z = 70$x_{1}$ + 20$x_{2}$       \n",
        "\n",
        "Find the optimal solution using Python. Assign the answers to: \n",
        "\n",
        "q1_profit_answer\n",
        "q1_x1_answer\n",
        "q1_x2_answer\n"
      ],
      "metadata": {}
    },
    {
      "cell_type": "code",
      "source": [],
      "outputs": [],
      "execution_count": null,
      "metadata": {}
    }
  ],
  "metadata": {
    "kernelspec": {
      "display_name": "Python 3",
      "language": "python",
      "name": "python3"
    },
    "language_info": {
      "codemirror_mode": {
        "name": "ipython",
        "version": 3
      },
      "file_extension": ".py",
      "mimetype": "text/x-python",
      "name": "python",
      "nbconvert_exporter": "python",
      "pygments_lexer": "ipython3",
      "version": "3.7.6"
    },
    "nteract": {
      "version": "0.12.3"
    }
  },
  "nbformat": 4,
  "nbformat_minor": 4
}
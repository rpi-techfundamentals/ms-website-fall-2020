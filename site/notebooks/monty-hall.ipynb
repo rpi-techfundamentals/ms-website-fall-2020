{
  "nbformat": 4,
  "nbformat_minor": 0,
  "metadata": {
    "colab": {
      "name": "monty-hall.ipynb",
      "provenance": []
    },
    "kernelspec": {
      "name": "python3",
      "display_name": "Python 3"
    }
  },
  "cells": [
    {
      "cell_type": "markdown",
      "metadata": {
        "id": "mT-CwQ3r6cHI"
      },
      "source": [
        "# Let's Make a Deal!  The Monty Hall problem.  \n",
        "\n",
        "See more [here](https://math.ucsd.edu/~crypto/Monty/monty.html) and [wikipedia](https://simple.wikipedia.org/wiki/Monty_Hall_problem)"
      ]
    },
    {
      "cell_type": "code",
      "metadata": {
        "id": "6aLCoxsN6-rH",
        "outputId": "09443fa4-143a-4891-a613-e7c5bf19efdf",
        "colab": {
          "base_uri": "https://localhost:8080/",
          "height": 170
        }
      },
      "source": [
        "def monty_hall(strategy, quiet=False):\n",
        "    \"\"\"\n",
        "    Function to implemnent the monty hall choice for a strategy\n",
        "    Arguments:\n",
        "    strategy:  stay, switch, or random are 3 potential strategies\n",
        "    quiet: determines if it prints all the details.\n",
        "    \n",
        "    \"\"\"\n",
        "    \n",
        "    if quiet==False: print(\"My strategy is \", strategy)\n",
        "\n",
        "    import numpy as np\n",
        "\n",
        "    doors = ['goat', 'goat', 'prize']\n",
        "\n",
        "    choices_orig= ['door #1', 'door #2', 'door #3']\n",
        "    choices= choices_orig.copy()\n",
        "\n",
        "    #Create the random set of the world \n",
        "    doors_rand= np.random.choice(doors, 3, replace=False)\n",
        "\n",
        "    if quiet==False: print(\"Hey contestent, why don't you choose a door.\")\n",
        "\n",
        "    prizes = dict(zip(choices_orig, doors_rand))\n",
        "    if quiet==False: print(\"the state of the world is \", prizes)\n",
        "\n",
        "    #my choices\n",
        "    my_choice= np.random.choice(choices, 1, replace=False)\n",
        "\n",
        "    if quiet==False: print(\"Hey Monty, I pick\", my_choice)\n",
        "    choices.remove(my_choice)\n",
        "    \n",
        "    #If you chose the prize, randomly remove one of the others.\n",
        "    if prizes[my_choice[0]]=='prize':\n",
        "        monty_remove= np.random.choice(choices, 1, replace=False)\n",
        "    else:\n",
        "        monty_remove=[x for x in choices if prizes[x]=='goat']\n",
        "\n",
        "    if quiet==False: print(\"Great, now let's remove \",  monty_remove)\n",
        "    #remove one prize\n",
        "    choices.remove(monty_remove[0])\n",
        "\n",
        "\n",
        "    if quiet==False: print(\"Now contestant, do you want to stay on\", my_choice, \"or switch to\", choices)\n",
        "\n",
        "    if strategy == 'random':\n",
        "        strategy= np.random.choice(['stay','switch'], 1, replace=False)\n",
        "\n",
        "    if strategy == 'stay':\n",
        "        if quiet==False: print(\"Monty, I want to stay with \", my_choice )\n",
        "        if quiet==False: print(\"Ok contestant, you are going to stay with\", my_choice )\n",
        "        choice_index=choices_orig.index(my_choice)\n",
        "\n",
        "\n",
        "    elif strategy == 'switch':\n",
        "        if quiet==False: print(\"Monty, I want to switch to \", choices )\n",
        "        if quiet==False: print(\"Ok contestant, you are going switch to\", choices)\n",
        "        choice_index=choices_orig.index(choices[0])\n",
        "\n",
        "    if  doors_rand[choice_index]=='prize':\n",
        "        if quiet==False: print(\"You won!!!!\")\n",
        "        won = 1\n",
        "    else: \n",
        "        if quiet==False: print(\"Better buy some hay for the goat!!!!\")\n",
        "        won = 0\n",
        "    \n",
        "    return won\n",
        "\n",
        "strategy = 'random'\n",
        "result = monty_hall(strategy, quiet=False)\n"
      ],
      "execution_count": null,
      "outputs": [
        {
          "output_type": "stream",
          "text": [
            "My strategy is  random\n",
            "Hey contestent, why don't you choose a door.\n",
            "the state of the world is  {'door #1': 'goat', 'door #2': 'goat', 'door #3': 'prize'}\n",
            "Hey Monty, I pick ['door #3']\n",
            "Great, now let's remove  ['door #1']\n",
            "Now contestant, do you want to stay on ['door #3'] or switch to ['door #2']\n",
            "Monty, I want to switch to  ['door #2']\n",
            "Ok contestant, you are going switch to ['door #2']\n",
            "Better buy some hay for the goat!!!!\n"
          ],
          "name": "stdout"
        }
      ]
    },
    {
      "cell_type": "code",
      "metadata": {
        "id": "R5JYwSO-4DdP",
        "outputId": "fa79bca0-94df-4cab-f648-4aad1a60d4dd",
        "colab": {
          "base_uri": "https://localhost:8080/",
          "height": 51
        }
      },
      "source": [
        "n=10000\n",
        "won = 0 \n",
        "\n",
        "strategy = 'switch'\n",
        "\n",
        "for i in range(n):\n",
        "    result= monty_hall(strategy, quiet=True)\n",
        "    won+=result\n",
        "\n",
        "print(\"You played \", n, \" times with a strategy \", strategy)\n",
        "win_percent = won/n*100\n",
        "print(\"You won \", won, \" times (\",win_percent,\" %)\" )\n"
      ],
      "execution_count": null,
      "outputs": [
        {
          "output_type": "stream",
          "text": [
            "You played  10000  times with a strategy  switch\n",
            "You won  6606  times ( 66.06  %)\n"
          ],
          "name": "stdout"
        }
      ]
    },
    {
      "cell_type": "code",
      "metadata": {
        "id": "cNTEXQjzhk48",
        "outputId": "975ed60d-9428-4299-cbd2-d0b710c35ada",
        "colab": {
          "base_uri": "https://localhost:8080/",
          "height": 51
        }
      },
      "source": [
        "n=10000\n",
        "won = 0 \n",
        "\n",
        "strategy = 'stay'\n",
        "\n",
        "for i in range(n):\n",
        "    result= monty_hall(strategy, quiet=True)\n",
        "    won+=result\n",
        "\n",
        "print(\"You played \", n, \" times with a strategy \", strategy)\n",
        "win_percent = won/n*100\n",
        "print(\"You won \", won, \" times (\",win_percent,\" % )\" )\n",
        "\n"
      ],
      "execution_count": null,
      "outputs": [
        {
          "output_type": "stream",
          "text": [
            "You played  10000  times with a strategy  stay\n",
            "You won  3242  times ( 32.42  % )\n"
          ],
          "name": "stdout"
        }
      ]
    },
    {
      "cell_type": "code",
      "metadata": {
        "id": "zVpnFxGdlfO8",
        "outputId": "8d33ec13-fa61-4c2d-9c61-6c9d94dff103",
        "colab": {
          "base_uri": "https://localhost:8080/",
          "height": 51
        }
      },
      "source": [
        "n=10000\n",
        "won = 0 \n",
        "\n",
        "strategy = 'random'\n",
        "\n",
        "for i in range(n):\n",
        "    result= monty_hall(strategy, quiet=True)\n",
        "    won+=result\n",
        "\n",
        "print(\"You played \", n, \" times with a strategy \", strategy)\n",
        "win_percent = won/n*100\n",
        "print(\"You won \", won, \" times (\",win_percent,\"% )\" )\n",
        "\n",
        "\n"
      ],
      "execution_count": null,
      "outputs": [
        {
          "output_type": "stream",
          "text": [
            "You played  10000  times with a strategy  random\n",
            "You won  5002  times ( 50.019999999999996 )\n"
          ],
          "name": "stdout"
        }
      ]
    }
  ]
}
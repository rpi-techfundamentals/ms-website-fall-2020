{
 "cells": [
  {
   "cell_type": "markdown",
   "metadata": {},
   "source": [
    "# Computational Solutions \n",
    "## Introduction to Linear Programming\n",
    "\n",
    "Computational environments provide organizations with the ability to implement solutions to complex time, in real time.  \n",
    "\n",
    "[Scikit Learn, Pulp, CPLEX, and Gurobi](https://medium.com/opex-analytics/optimization-modeling-in-python-pulp-gurobi-and-cplex-83a62129807a) are  Python packages which provide capabilities for Linear programming and optimization. \n"
   ]
  },
  {
   "cell_type": "code",
   "execution_count": 1,
   "metadata": {},
   "outputs": [
    {
     "name": "stdout",
     "output_type": "stream",
     "text": [
      "Requirement already satisfied: pulp in /Users/jasonkuruzovich/anaconda3/envs/tf2/lib/python3.7/site-packages (2.3)\n",
      "Requirement already satisfied: amply>=0.1.2 in /Users/jasonkuruzovich/anaconda3/envs/tf2/lib/python3.7/site-packages (from pulp) (0.1.2)\n",
      "Requirement already satisfied: docutils>=0.3 in /Users/jasonkuruzovich/anaconda3/envs/tf2/lib/python3.7/site-packages (from amply>=0.1.2->pulp) (0.15.2)\n",
      "Requirement already satisfied: pyparsing in /Users/jasonkuruzovich/anaconda3/envs/tf2/lib/python3.7/site-packages (from amply>=0.1.2->pulp) (2.4.7)\n"
     ]
    }
   ],
   "source": [
    "!pip install pulp"
   ]
  },
  {
   "cell_type": "code",
   "execution_count": 2,
   "metadata": {},
   "outputs": [],
   "source": [
    "#Import some required packages. \n",
    "import numpy as np\n",
    "import matplotlib.pyplot as plt\n",
    "%matplotlib inline"
   ]
  },
  {
   "cell_type": "markdown",
   "metadata": {},
   "source": [
    "## Product mix problem - Farmers Fields\n",
    "\n",
    "Problem: How much of each brand to purchase to minimize total cost of fertilizer given following data?\n",
    "\n",
    "Product resource requirements and unit profit:\n",
    "\n",
    "Two brands of fertilizer available – Super-gro, Crop-quick.\n",
    "\n",
    "Field requires at least 16 pounds of nitrogen and 24 pounds of phosphate.\n",
    "\n",
    "Super-gro costs: `$6 per bag` \n",
    "\n",
    "Crop-quick: `$3 per bag`\n",
    "\n",
    "\n",
    "Decision Variables:\n",
    "\n",
    "$x_{1}$ = number of bags of Super-gro\n",
    "\n",
    "$x_{2}$ = number of bags of Crop-quick\n",
    "\n",
    "\n",
    "Cost (Z) minimization \n",
    "\n",
    "Z = 6$x_{1}$ + 3$x_{2}$\n",
    "\n",
    "\n",
    "Nitrogen Constraint\n",
    "\n",
    "2$x_{1}$ + 4$x_{2}$ >= 16\n",
    "\n",
    "Phosphate Constraint Check\n",
    "\n",
    "4$x_{1}$ + 3$x_{2}$ >= 24\n",
    "\n",
    "Non-negativitiy Constraint\n",
    "\n",
    "$x_{1}$ > 0\n",
    "\n",
    "$x_{2}$ > 0\n"
   ]
  },
  {
   "cell_type": "code",
   "execution_count": 3,
   "metadata": {},
   "outputs": [],
   "source": [
    "#Initialize the model as a minimization problem. \n",
    "import pulp as pl\n",
    "opt_model = pl.LpProblem(\"MIPModel\", pl.LpMinimize)\n"
   ]
  },
  {
   "cell_type": "code",
   "execution_count": 4,
   "metadata": {},
   "outputs": [],
   "source": [
    "#Set the variables. Notice this is where we put \n",
    "# the \"non-negativity\" constraint\n",
    "x1 =pl.LpVariable(cat=pl.LpInteger, lowBound=0, name=\"$x_{1}$\") \n",
    "x2 =pl.LpVariable(cat=pl.LpInteger, lowBound=0, name=\"$x_{2}$\") "
   ]
  },
  {
   "cell_type": "code",
   "execution_count": 5,
   "metadata": {},
   "outputs": [],
   "source": [
    "#Set the objective function\n",
    "opt_model += 6 * x1 + 3 * x2 "
   ]
  },
  {
   "cell_type": "code",
   "execution_count": 6,
   "metadata": {},
   "outputs": [],
   "source": [
    "#Set the Constraints\n",
    "opt_model += 2 * x1  + 4* x2  >= 16\n",
    "\n",
    "opt_model += 4 * x1 + 3 * x2 >= 24"
   ]
  },
  {
   "cell_type": "markdown",
   "metadata": {},
   "source": [
    "## Review Model\n",
    "\n",
    "Now that we have created the model we can review it. "
   ]
  },
  {
   "cell_type": "code",
   "execution_count": 7,
   "metadata": {},
   "outputs": [
    {
     "data": {
      "text/plain": [
       "MIPModel:\n",
       "MINIMIZE\n",
       "6*$x_{1}$ + 3*$x_{2}$ + 0\n",
       "SUBJECT TO\n",
       "_C1: 2 $x_{1}$ + 4 $x_{2}$ >= 16\n",
       "\n",
       "_C2: 4 $x_{1}$ + 3 $x_{2}$ >= 24\n",
       "\n",
       "VARIABLES\n",
       "0 <= $x_{1}$ Integer\n",
       "0 <= $x_{2}$ Integer"
      ]
     },
     "execution_count": 7,
     "metadata": {},
     "output_type": "execute_result"
    }
   ],
   "source": [
    "opt_model"
   ]
  },
  {
   "cell_type": "markdown",
   "metadata": {},
   "source": [
    "## Markdown of output\n",
    "If we copy the above text into a markdown cell you will see the implications of the varous models. \n",
    "\n",
    "\n",
    "MIPModel:\n",
    "\n",
    "MINIMIZE\n",
    "\n",
    "6*$x_{1}$ + 3*$x_{2}$ + 0\n",
    "\n",
    "SUBJECT TO\n",
    "\n",
    "_C1: 2 $x_{1}$ + 4 $x_{2}$ >= 16\n",
    "\n",
    "_C2: 4 $x_{1}$ + 3 $x_{2}$ >= 24\n",
    "\n",
    "VARIABLES\n",
    "\n",
    "0 <= $x_{1}$ Integer\n",
    "\n",
    "0 <= $x_{2}$ Integer\n"
   ]
  },
  {
   "cell_type": "markdown",
   "metadata": {},
   "source": [
    "## Solve\n",
    "\n",
    "We now solve the system of equations with the solve command. "
   ]
  },
  {
   "cell_type": "code",
   "execution_count": 8,
   "metadata": {},
   "outputs": [
    {
     "data": {
      "text/plain": [
       "1"
      ]
     },
     "execution_count": 8,
     "metadata": {},
     "output_type": "execute_result"
    }
   ],
   "source": [
    "#Solve the program\n",
    "opt_model.solve()\n"
   ]
  },
  {
   "cell_type": "markdown",
   "metadata": {},
   "source": [
    "## Check the Status\n",
    "\n",
    "Here are 5 status codes:\n",
    "* **Not Solved**: Status prior to solving the problem.\n",
    "* **Optimal**: An optimal solution has been found.\n",
    "* **Infeasible**: There are no feasible solutions (e.g. if you set the constraints x <= 1 and x >=2).\n",
    "* **Unbounded**: The constraints are not bounded, maximising the solution will tend towards infinity (e.g. if the only constraint was x >= 3).\n",
    "* **Undefined**: The optimal solution may exist but may not have been found."
   ]
  },
  {
   "cell_type": "code",
   "execution_count": 9,
   "metadata": {},
   "outputs": [
    {
     "data": {
      "text/plain": [
       "'Optimal'"
      ]
     },
     "execution_count": 9,
     "metadata": {},
     "output_type": "execute_result"
    }
   ],
   "source": [
    "pl.LpStatus[opt_model.status]"
   ]
  },
  {
   "cell_type": "code",
   "execution_count": 10,
   "metadata": {},
   "outputs": [
    {
     "name": "stdout",
     "output_type": "stream",
     "text": [
      "$x_{1}$  =  0.0\n",
      "$x_{2}$  =  8.0\n"
     ]
    }
   ],
   "source": [
    "for variable in opt_model.variables():\n",
    "    print(variable.name,\" = \", variable.varValue)"
   ]
  },
  {
   "cell_type": "markdown",
   "metadata": {},
   "source": [
    "## Hurray! \n",
    "We got the same answer as we did before. "
   ]
  },
  {
   "cell_type": "markdown",
   "metadata": {},
   "source": [
    "## Exercise\n",
    "\n",
    "Solve the LP problem for Beaver Creek Pottery using the maximization model type (`pl.LpMaximize`).\n",
    "\n",
    "\n",
    "### Product mix problem - Beaver Creek Pottery Company\n",
    "How many bowls and mugs should be produced to maximize profits given labor and materials constraints?\n",
    "\n",
    "Product resource requirements and unit profit:\n",
    "\n",
    "Decision Variables:\n",
    "\n",
    "$x_{1}$ = number of bowls to produce per day\n",
    "\n",
    "$x_{2}$ = number of mugs to produce per day\n",
    "\n",
    "\n",
    "Profit (Z)  Mazimization\n",
    "\n",
    "Z = 40$x_{1}$ + 50$x_{2}$\n",
    "\n",
    "Labor Constraint Check\n",
    "\n",
    "1$x_{1}$ + 2$x_{2}$ <= 40\n",
    "\n",
    "Clay (Physicial Resource) Constraint Check\n",
    "\n",
    "4$x_{1}$ + 3$x_{2}$ <= 120\n",
    "\n",
    "Negative Production Constaint Check\n",
    "\n",
    "$x_{1}$ > 0\n",
    "\n",
    "$x_{2}$ > 0\n",
    "\n"
   ]
  },
  {
   "cell_type": "markdown",
   "metadata": {},
   "source": [
    "## Sensitivity Analysis"
   ]
  },
  {
   "cell_type": "code",
   "execution_count": 13,
   "metadata": {},
   "outputs": [
    {
     "name": "stdout",
     "output_type": "stream",
     "text": [
      "_C1 : 2*$x_{1}$ + 4*$x_{2}$ >= 16 \t 0.0 \t\t -16.0\n",
      "_C2 : 4*$x_{1}$ + 3*$x_{2}$ >= 24 \t 0.0 \t\t -0.0\n"
     ]
    }
   ],
   "source": [
    "for name, c in opt_model.constraints.items():\n",
    "    print (name, \":\", c, \"\\t\", c.pi, \"\\t\\t\", c.slack)"
   ]
  },
  {
   "cell_type": "code",
   "execution_count": null,
   "metadata": {},
   "outputs": [],
   "source": []
  }
 ],
 "metadata": {
  "kernelspec": {
   "display_name": "Python 3",
   "language": "python",
   "name": "python3"
  },
  "language_info": {
   "codemirror_mode": {
    "name": "ipython",
    "version": 3
   },
   "file_extension": ".py",
   "mimetype": "text/x-python",
   "name": "python",
   "nbconvert_exporter": "python",
   "pygments_lexer": "ipython3",
   "version": "3.7.6"
  }
 },
 "nbformat": 4,
 "nbformat_minor": 4
}
